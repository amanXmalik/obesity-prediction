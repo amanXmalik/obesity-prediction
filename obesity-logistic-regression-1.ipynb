{
 "cells": [
  {
   "cell_type": "code",
   "execution_count": 1,
   "id": "c292e452",
   "metadata": {
    "_cell_guid": "b1076dfc-b9ad-4769-8c92-a6c4dae69d19",
    "_uuid": "8f2839f25d086af736a60e9eeb907d3b93b6e0e5",
    "execution": {
     "iopub.execute_input": "2024-03-19T18:48:45.402450Z",
     "iopub.status.busy": "2024-03-19T18:48:45.401700Z",
     "iopub.status.idle": "2024-03-19T18:48:49.196327Z",
     "shell.execute_reply": "2024-03-19T18:48:49.194867Z"
    },
    "papermill": {
     "duration": 3.81289,
     "end_time": "2024-03-19T18:48:49.199903",
     "exception": false,
     "start_time": "2024-03-19T18:48:45.387013",
     "status": "completed"
    },
    "tags": []
   },
   "outputs": [],
   "source": [
    "# Importing necessary libraries\n",
    "import pandas as pd\n",
    "import numpy as np\n",
    "import matplotlib.pyplot as plt\n",
    "import seaborn as sns\n",
    "from sklearn.model_selection import train_test_split\n",
    "from sklearn.preprocessing import LabelEncoder\n",
    "from sklearn.linear_model import LogisticRegression\n",
    "from sklearn.metrics import accuracy_score, classification_report, confusion_matrix"
   ]
  },
  {
   "cell_type": "markdown",
   "id": "c4f8d753",
   "metadata": {
    "papermill": {
     "duration": 0.010762,
     "end_time": "2024-03-19T18:48:49.226721",
     "exception": false,
     "start_time": "2024-03-19T18:48:49.215959",
     "status": "completed"
    },
    "tags": []
   },
   "source": [
    "## Importing Libraries\n",
    "- `pandas`: A powerful data manipulation and analysis library for working with structured data.\n",
    "- `numpy`: Adds support for large, multi-dimensional arrays and matrices, along with a collection of mathematical functions to operate on these arrays.\n",
    "- `matplotlib.pyplot`: Provides a MATLAB-like plotting framework for creating static, interactive, and animated visualizations in Python.\n",
    "- `seaborn`: A statistical data visualization library based on matplotlib that provides a high-level interface for drawing attractive and informative statistical graphics.\n",
    "- `sklearn.model_selection.train_test_split`: Splits arrays or matrices into random train and test subsets.\n",
    "- `sklearn.preprocessing.LabelEncoder`: Encodes target labels with value between 0 and n_classes-1.\n",
    "- `sklearn.linear_model.LogisticRegression`: A linear model for classification rather than regression.\n",
    "- `sklearn.metrics`: Includes score functions, performance metrics, and pairwise metrics and distance computations."
   ]
  },
  {
   "cell_type": "code",
   "execution_count": 2,
   "id": "b7d13e12",
   "metadata": {
    "execution": {
     "iopub.execute_input": "2024-03-19T18:48:49.248747Z",
     "iopub.status.busy": "2024-03-19T18:48:49.247949Z",
     "iopub.status.idle": "2024-03-19T18:48:49.412873Z",
     "shell.execute_reply": "2024-03-19T18:48:49.411717Z"
    },
    "papermill": {
     "duration": 0.179214,
     "end_time": "2024-03-19T18:48:49.415700",
     "exception": false,
     "start_time": "2024-03-19T18:48:49.236486",
     "status": "completed"
    },
    "tags": []
   },
   "outputs": [],
   "source": [
    "# Load the data\n",
    "train_data = pd.read_csv(\"/kaggle/input/playground-series-s4e2/train.csv\")"
   ]
  },
  {
   "cell_type": "markdown",
   "id": "15ae8ea1",
   "metadata": {
    "papermill": {
     "duration": 0.009687,
     "end_time": "2024-03-19T18:48:49.435475",
     "exception": false,
     "start_time": "2024-03-19T18:48:49.425788",
     "status": "completed"
    },
    "tags": []
   },
   "source": [
    "# EDA of the Dataset\n"
   ]
  },
  {
   "cell_type": "code",
   "execution_count": 3,
   "id": "cdc8bbea",
   "metadata": {
    "execution": {
     "iopub.execute_input": "2024-03-19T18:48:49.457766Z",
     "iopub.status.busy": "2024-03-19T18:48:49.456476Z",
     "iopub.status.idle": "2024-03-19T18:48:49.491426Z",
     "shell.execute_reply": "2024-03-19T18:48:49.490164Z"
    },
    "papermill": {
     "duration": 0.049213,
     "end_time": "2024-03-19T18:48:49.494368",
     "exception": false,
     "start_time": "2024-03-19T18:48:49.445155",
     "status": "completed"
    },
    "tags": []
   },
   "outputs": [
    {
     "name": "stdout",
     "output_type": "stream",
     "text": [
      "Training Data:\n"
     ]
    },
    {
     "data": {
      "text/html": [
       "<div>\n",
       "<style scoped>\n",
       "    .dataframe tbody tr th:only-of-type {\n",
       "        vertical-align: middle;\n",
       "    }\n",
       "\n",
       "    .dataframe tbody tr th {\n",
       "        vertical-align: top;\n",
       "    }\n",
       "\n",
       "    .dataframe thead th {\n",
       "        text-align: right;\n",
       "    }\n",
       "</style>\n",
       "<table border=\"1\" class=\"dataframe\">\n",
       "  <thead>\n",
       "    <tr style=\"text-align: right;\">\n",
       "      <th></th>\n",
       "      <th>id</th>\n",
       "      <th>Gender</th>\n",
       "      <th>Age</th>\n",
       "      <th>Height</th>\n",
       "      <th>Weight</th>\n",
       "      <th>family_history_with_overweight</th>\n",
       "      <th>FAVC</th>\n",
       "      <th>FCVC</th>\n",
       "      <th>NCP</th>\n",
       "      <th>CAEC</th>\n",
       "      <th>SMOKE</th>\n",
       "      <th>CH2O</th>\n",
       "      <th>SCC</th>\n",
       "      <th>FAF</th>\n",
       "      <th>TUE</th>\n",
       "      <th>CALC</th>\n",
       "      <th>MTRANS</th>\n",
       "      <th>NObeyesdad</th>\n",
       "    </tr>\n",
       "  </thead>\n",
       "  <tbody>\n",
       "    <tr>\n",
       "      <th>0</th>\n",
       "      <td>0</td>\n",
       "      <td>Male</td>\n",
       "      <td>24.443011</td>\n",
       "      <td>1.699998</td>\n",
       "      <td>81.669950</td>\n",
       "      <td>yes</td>\n",
       "      <td>yes</td>\n",
       "      <td>2.000000</td>\n",
       "      <td>2.983297</td>\n",
       "      <td>Sometimes</td>\n",
       "      <td>no</td>\n",
       "      <td>2.763573</td>\n",
       "      <td>no</td>\n",
       "      <td>0.000000</td>\n",
       "      <td>0.976473</td>\n",
       "      <td>Sometimes</td>\n",
       "      <td>Public_Transportation</td>\n",
       "      <td>Overweight_Level_II</td>\n",
       "    </tr>\n",
       "    <tr>\n",
       "      <th>1</th>\n",
       "      <td>1</td>\n",
       "      <td>Female</td>\n",
       "      <td>18.000000</td>\n",
       "      <td>1.560000</td>\n",
       "      <td>57.000000</td>\n",
       "      <td>yes</td>\n",
       "      <td>yes</td>\n",
       "      <td>2.000000</td>\n",
       "      <td>3.000000</td>\n",
       "      <td>Frequently</td>\n",
       "      <td>no</td>\n",
       "      <td>2.000000</td>\n",
       "      <td>no</td>\n",
       "      <td>1.000000</td>\n",
       "      <td>1.000000</td>\n",
       "      <td>no</td>\n",
       "      <td>Automobile</td>\n",
       "      <td>Normal_Weight</td>\n",
       "    </tr>\n",
       "    <tr>\n",
       "      <th>2</th>\n",
       "      <td>2</td>\n",
       "      <td>Female</td>\n",
       "      <td>18.000000</td>\n",
       "      <td>1.711460</td>\n",
       "      <td>50.165754</td>\n",
       "      <td>yes</td>\n",
       "      <td>yes</td>\n",
       "      <td>1.880534</td>\n",
       "      <td>1.411685</td>\n",
       "      <td>Sometimes</td>\n",
       "      <td>no</td>\n",
       "      <td>1.910378</td>\n",
       "      <td>no</td>\n",
       "      <td>0.866045</td>\n",
       "      <td>1.673584</td>\n",
       "      <td>no</td>\n",
       "      <td>Public_Transportation</td>\n",
       "      <td>Insufficient_Weight</td>\n",
       "    </tr>\n",
       "    <tr>\n",
       "      <th>3</th>\n",
       "      <td>3</td>\n",
       "      <td>Female</td>\n",
       "      <td>20.952737</td>\n",
       "      <td>1.710730</td>\n",
       "      <td>131.274851</td>\n",
       "      <td>yes</td>\n",
       "      <td>yes</td>\n",
       "      <td>3.000000</td>\n",
       "      <td>3.000000</td>\n",
       "      <td>Sometimes</td>\n",
       "      <td>no</td>\n",
       "      <td>1.674061</td>\n",
       "      <td>no</td>\n",
       "      <td>1.467863</td>\n",
       "      <td>0.780199</td>\n",
       "      <td>Sometimes</td>\n",
       "      <td>Public_Transportation</td>\n",
       "      <td>Obesity_Type_III</td>\n",
       "    </tr>\n",
       "    <tr>\n",
       "      <th>4</th>\n",
       "      <td>4</td>\n",
       "      <td>Male</td>\n",
       "      <td>31.641081</td>\n",
       "      <td>1.914186</td>\n",
       "      <td>93.798055</td>\n",
       "      <td>yes</td>\n",
       "      <td>yes</td>\n",
       "      <td>2.679664</td>\n",
       "      <td>1.971472</td>\n",
       "      <td>Sometimes</td>\n",
       "      <td>no</td>\n",
       "      <td>1.979848</td>\n",
       "      <td>no</td>\n",
       "      <td>1.967973</td>\n",
       "      <td>0.931721</td>\n",
       "      <td>Sometimes</td>\n",
       "      <td>Public_Transportation</td>\n",
       "      <td>Overweight_Level_II</td>\n",
       "    </tr>\n",
       "  </tbody>\n",
       "</table>\n",
       "</div>"
      ],
      "text/plain": [
       "   id  Gender        Age    Height      Weight family_history_with_overweight  \\\n",
       "0   0    Male  24.443011  1.699998   81.669950                            yes   \n",
       "1   1  Female  18.000000  1.560000   57.000000                            yes   \n",
       "2   2  Female  18.000000  1.711460   50.165754                            yes   \n",
       "3   3  Female  20.952737  1.710730  131.274851                            yes   \n",
       "4   4    Male  31.641081  1.914186   93.798055                            yes   \n",
       "\n",
       "  FAVC      FCVC       NCP        CAEC SMOKE      CH2O SCC       FAF  \\\n",
       "0  yes  2.000000  2.983297   Sometimes    no  2.763573  no  0.000000   \n",
       "1  yes  2.000000  3.000000  Frequently    no  2.000000  no  1.000000   \n",
       "2  yes  1.880534  1.411685   Sometimes    no  1.910378  no  0.866045   \n",
       "3  yes  3.000000  3.000000   Sometimes    no  1.674061  no  1.467863   \n",
       "4  yes  2.679664  1.971472   Sometimes    no  1.979848  no  1.967973   \n",
       "\n",
       "        TUE       CALC                 MTRANS           NObeyesdad  \n",
       "0  0.976473  Sometimes  Public_Transportation  Overweight_Level_II  \n",
       "1  1.000000         no             Automobile        Normal_Weight  \n",
       "2  1.673584         no  Public_Transportation  Insufficient_Weight  \n",
       "3  0.780199  Sometimes  Public_Transportation     Obesity_Type_III  \n",
       "4  0.931721  Sometimes  Public_Transportation  Overweight_Level_II  "
      ]
     },
     "execution_count": 3,
     "metadata": {},
     "output_type": "execute_result"
    }
   ],
   "source": [
    "# Exploratory Data Analysis (EDA)\n",
    "# Display the first few rows of the training data\n",
    "print(\"Training Data:\")\n",
    "train_data.head()"
   ]
  },
  {
   "cell_type": "code",
   "execution_count": 4,
   "id": "e4a06621",
   "metadata": {
    "execution": {
     "iopub.execute_input": "2024-03-19T18:48:49.517954Z",
     "iopub.status.busy": "2024-03-19T18:48:49.517143Z",
     "iopub.status.idle": "2024-03-19T18:48:49.550682Z",
     "shell.execute_reply": "2024-03-19T18:48:49.549339Z"
    },
    "papermill": {
     "duration": 0.048485,
     "end_time": "2024-03-19T18:48:49.553538",
     "exception": false,
     "start_time": "2024-03-19T18:48:49.505053",
     "status": "completed"
    },
    "tags": []
   },
   "outputs": [
    {
     "name": "stdout",
     "output_type": "stream",
     "text": [
      "\n",
      "Missing values in training data:\n",
      "id                                0\n",
      "Gender                            0\n",
      "Age                               0\n",
      "Height                            0\n",
      "Weight                            0\n",
      "family_history_with_overweight    0\n",
      "FAVC                              0\n",
      "FCVC                              0\n",
      "NCP                               0\n",
      "CAEC                              0\n",
      "SMOKE                             0\n",
      "CH2O                              0\n",
      "SCC                               0\n",
      "FAF                               0\n",
      "TUE                               0\n",
      "CALC                              0\n",
      "MTRANS                            0\n",
      "NObeyesdad                        0\n",
      "dtype: int64\n"
     ]
    }
   ],
   "source": [
    "# Check for missing values\n",
    "print(\"\\nMissing values in training data:\")\n",
    "print(train_data.isnull().sum())\n"
   ]
  },
  {
   "cell_type": "markdown",
   "id": "a13b982c",
   "metadata": {
    "papermill": {
     "duration": 0.010259,
     "end_time": "2024-03-19T18:48:49.574470",
     "exception": false,
     "start_time": "2024-03-19T18:48:49.564211",
     "status": "completed"
    },
    "tags": []
   },
   "source": [
    "## No null values in the dataset"
   ]
  },
  {
   "cell_type": "markdown",
   "id": "93b51a46",
   "metadata": {
    "papermill": {
     "duration": 0.011126,
     "end_time": "2024-03-19T18:48:49.595903",
     "exception": false,
     "start_time": "2024-03-19T18:48:49.584777",
     "status": "completed"
    },
    "tags": []
   },
   "source": [
    "# Describing the DataSet"
   ]
  },
  {
   "cell_type": "code",
   "execution_count": 5,
   "id": "30d8f73c",
   "metadata": {
    "execution": {
     "iopub.execute_input": "2024-03-19T18:48:49.619847Z",
     "iopub.status.busy": "2024-03-19T18:48:49.618574Z",
     "iopub.status.idle": "2024-03-19T18:48:49.676728Z",
     "shell.execute_reply": "2024-03-19T18:48:49.675266Z"
    },
    "papermill": {
     "duration": 0.072898,
     "end_time": "2024-03-19T18:48:49.679540",
     "exception": false,
     "start_time": "2024-03-19T18:48:49.606642",
     "status": "completed"
    },
    "tags": []
   },
   "outputs": [
    {
     "data": {
      "text/html": [
       "<div>\n",
       "<style scoped>\n",
       "    .dataframe tbody tr th:only-of-type {\n",
       "        vertical-align: middle;\n",
       "    }\n",
       "\n",
       "    .dataframe tbody tr th {\n",
       "        vertical-align: top;\n",
       "    }\n",
       "\n",
       "    .dataframe thead th {\n",
       "        text-align: right;\n",
       "    }\n",
       "</style>\n",
       "<table border=\"1\" class=\"dataframe\">\n",
       "  <thead>\n",
       "    <tr style=\"text-align: right;\">\n",
       "      <th></th>\n",
       "      <th>id</th>\n",
       "      <th>Age</th>\n",
       "      <th>Height</th>\n",
       "      <th>Weight</th>\n",
       "      <th>FCVC</th>\n",
       "      <th>NCP</th>\n",
       "      <th>CH2O</th>\n",
       "      <th>FAF</th>\n",
       "      <th>TUE</th>\n",
       "    </tr>\n",
       "  </thead>\n",
       "  <tbody>\n",
       "    <tr>\n",
       "      <th>count</th>\n",
       "      <td>20758.00000</td>\n",
       "      <td>20758.000000</td>\n",
       "      <td>20758.000000</td>\n",
       "      <td>20758.000000</td>\n",
       "      <td>20758.000000</td>\n",
       "      <td>20758.000000</td>\n",
       "      <td>20758.000000</td>\n",
       "      <td>20758.000000</td>\n",
       "      <td>20758.000000</td>\n",
       "    </tr>\n",
       "    <tr>\n",
       "      <th>mean</th>\n",
       "      <td>10378.50000</td>\n",
       "      <td>23.841804</td>\n",
       "      <td>1.700245</td>\n",
       "      <td>87.887768</td>\n",
       "      <td>2.445908</td>\n",
       "      <td>2.761332</td>\n",
       "      <td>2.029418</td>\n",
       "      <td>0.981747</td>\n",
       "      <td>0.616756</td>\n",
       "    </tr>\n",
       "    <tr>\n",
       "      <th>std</th>\n",
       "      <td>5992.46278</td>\n",
       "      <td>5.688072</td>\n",
       "      <td>0.087312</td>\n",
       "      <td>26.379443</td>\n",
       "      <td>0.533218</td>\n",
       "      <td>0.705375</td>\n",
       "      <td>0.608467</td>\n",
       "      <td>0.838302</td>\n",
       "      <td>0.602113</td>\n",
       "    </tr>\n",
       "    <tr>\n",
       "      <th>min</th>\n",
       "      <td>0.00000</td>\n",
       "      <td>14.000000</td>\n",
       "      <td>1.450000</td>\n",
       "      <td>39.000000</td>\n",
       "      <td>1.000000</td>\n",
       "      <td>1.000000</td>\n",
       "      <td>1.000000</td>\n",
       "      <td>0.000000</td>\n",
       "      <td>0.000000</td>\n",
       "    </tr>\n",
       "    <tr>\n",
       "      <th>25%</th>\n",
       "      <td>5189.25000</td>\n",
       "      <td>20.000000</td>\n",
       "      <td>1.631856</td>\n",
       "      <td>66.000000</td>\n",
       "      <td>2.000000</td>\n",
       "      <td>3.000000</td>\n",
       "      <td>1.792022</td>\n",
       "      <td>0.008013</td>\n",
       "      <td>0.000000</td>\n",
       "    </tr>\n",
       "    <tr>\n",
       "      <th>50%</th>\n",
       "      <td>10378.50000</td>\n",
       "      <td>22.815416</td>\n",
       "      <td>1.700000</td>\n",
       "      <td>84.064875</td>\n",
       "      <td>2.393837</td>\n",
       "      <td>3.000000</td>\n",
       "      <td>2.000000</td>\n",
       "      <td>1.000000</td>\n",
       "      <td>0.573887</td>\n",
       "    </tr>\n",
       "    <tr>\n",
       "      <th>75%</th>\n",
       "      <td>15567.75000</td>\n",
       "      <td>26.000000</td>\n",
       "      <td>1.762887</td>\n",
       "      <td>111.600553</td>\n",
       "      <td>3.000000</td>\n",
       "      <td>3.000000</td>\n",
       "      <td>2.549617</td>\n",
       "      <td>1.587406</td>\n",
       "      <td>1.000000</td>\n",
       "    </tr>\n",
       "    <tr>\n",
       "      <th>max</th>\n",
       "      <td>20757.00000</td>\n",
       "      <td>61.000000</td>\n",
       "      <td>1.975663</td>\n",
       "      <td>165.057269</td>\n",
       "      <td>3.000000</td>\n",
       "      <td>4.000000</td>\n",
       "      <td>3.000000</td>\n",
       "      <td>3.000000</td>\n",
       "      <td>2.000000</td>\n",
       "    </tr>\n",
       "  </tbody>\n",
       "</table>\n",
       "</div>"
      ],
      "text/plain": [
       "                id           Age        Height        Weight          FCVC  \\\n",
       "count  20758.00000  20758.000000  20758.000000  20758.000000  20758.000000   \n",
       "mean   10378.50000     23.841804      1.700245     87.887768      2.445908   \n",
       "std     5992.46278      5.688072      0.087312     26.379443      0.533218   \n",
       "min        0.00000     14.000000      1.450000     39.000000      1.000000   \n",
       "25%     5189.25000     20.000000      1.631856     66.000000      2.000000   \n",
       "50%    10378.50000     22.815416      1.700000     84.064875      2.393837   \n",
       "75%    15567.75000     26.000000      1.762887    111.600553      3.000000   \n",
       "max    20757.00000     61.000000      1.975663    165.057269      3.000000   \n",
       "\n",
       "                NCP          CH2O           FAF           TUE  \n",
       "count  20758.000000  20758.000000  20758.000000  20758.000000  \n",
       "mean       2.761332      2.029418      0.981747      0.616756  \n",
       "std        0.705375      0.608467      0.838302      0.602113  \n",
       "min        1.000000      1.000000      0.000000      0.000000  \n",
       "25%        3.000000      1.792022      0.008013      0.000000  \n",
       "50%        3.000000      2.000000      1.000000      0.573887  \n",
       "75%        3.000000      2.549617      1.587406      1.000000  \n",
       "max        4.000000      3.000000      3.000000      2.000000  "
      ]
     },
     "execution_count": 5,
     "metadata": {},
     "output_type": "execute_result"
    }
   ],
   "source": [
    "train_data.describe()"
   ]
  },
  {
   "cell_type": "code",
   "execution_count": 6,
   "id": "064036c3",
   "metadata": {
    "execution": {
     "iopub.execute_input": "2024-03-19T18:48:49.704304Z",
     "iopub.status.busy": "2024-03-19T18:48:49.703439Z",
     "iopub.status.idle": "2024-03-19T18:48:49.756159Z",
     "shell.execute_reply": "2024-03-19T18:48:49.754267Z"
    },
    "papermill": {
     "duration": 0.069103,
     "end_time": "2024-03-19T18:48:49.759426",
     "exception": false,
     "start_time": "2024-03-19T18:48:49.690323",
     "status": "completed"
    },
    "tags": []
   },
   "outputs": [
    {
     "name": "stdout",
     "output_type": "stream",
     "text": [
      "<class 'pandas.core.frame.DataFrame'>\n",
      "RangeIndex: 20758 entries, 0 to 20757\n",
      "Data columns (total 18 columns):\n",
      " #   Column                          Non-Null Count  Dtype  \n",
      "---  ------                          --------------  -----  \n",
      " 0   id                              20758 non-null  int64  \n",
      " 1   Gender                          20758 non-null  object \n",
      " 2   Age                             20758 non-null  float64\n",
      " 3   Height                          20758 non-null  float64\n",
      " 4   Weight                          20758 non-null  float64\n",
      " 5   family_history_with_overweight  20758 non-null  object \n",
      " 6   FAVC                            20758 non-null  object \n",
      " 7   FCVC                            20758 non-null  float64\n",
      " 8   NCP                             20758 non-null  float64\n",
      " 9   CAEC                            20758 non-null  object \n",
      " 10  SMOKE                           20758 non-null  object \n",
      " 11  CH2O                            20758 non-null  float64\n",
      " 12  SCC                             20758 non-null  object \n",
      " 13  FAF                             20758 non-null  float64\n",
      " 14  TUE                             20758 non-null  float64\n",
      " 15  CALC                            20758 non-null  object \n",
      " 16  MTRANS                          20758 non-null  object \n",
      " 17  NObeyesdad                      20758 non-null  object \n",
      "dtypes: float64(8), int64(1), object(9)\n",
      "memory usage: 2.9+ MB\n"
     ]
    }
   ],
   "source": [
    "train_data.info()"
   ]
  },
  {
   "cell_type": "markdown",
   "id": "44fb3c3b",
   "metadata": {
    "papermill": {
     "duration": 0.010644,
     "end_time": "2024-03-19T18:48:49.781404",
     "exception": false,
     "start_time": "2024-03-19T18:48:49.770760",
     "status": "completed"
    },
    "tags": []
   },
   "source": [
    "# Visualizing the Dataset"
   ]
  },
  {
   "cell_type": "code",
   "execution_count": 7,
   "id": "78ffaf07",
   "metadata": {
    "execution": {
     "iopub.execute_input": "2024-03-19T18:48:49.807929Z",
     "iopub.status.busy": "2024-03-19T18:48:49.807488Z",
     "iopub.status.idle": "2024-03-19T18:48:50.191429Z",
     "shell.execute_reply": "2024-03-19T18:48:50.189493Z"
    },
    "papermill": {
     "duration": 0.402191,
     "end_time": "2024-03-19T18:48:50.194821",
     "exception": false,
     "start_time": "2024-03-19T18:48:49.792630",
     "status": "completed"
    },
    "tags": []
   },
   "outputs": [
    {
     "data": {
      "image/png": "[encoded data removed]",
      "text/plain": [
       "<Figure size 1000x600 with 1 Axes>"
      ]
     },
     "metadata": {},
     "output_type": "display_data"
    }
   ],
   "source": [
    "# Visualize the distribution of the target variable\n",
    "plt.figure(figsize=(10, 6))\n",
    "sns.countplot(x=\"NObeyesdad\", data=train_data)\n",
    "plt.title(\"Distribution of Target Variable\")\n",
    "plt.show()"
   ]
  },
  {
   "cell_type": "code",
   "execution_count": 8,
   "id": "4f7b4fc2",
   "metadata": {
    "execution": {
     "iopub.execute_input": "2024-03-19T18:48:50.222925Z",
     "iopub.status.busy": "2024-03-19T18:48:50.221676Z",
     "iopub.status.idle": "2024-03-19T18:48:50.238689Z",
     "shell.execute_reply": "2024-03-19T18:48:50.236673Z"
    },
    "papermill": {
     "duration": 0.034465,
     "end_time": "2024-03-19T18:48:50.242061",
     "exception": false,
     "start_time": "2024-03-19T18:48:50.207596",
     "status": "completed"
    },
    "tags": []
   },
   "outputs": [],
   "source": [
    "# Data Preprocessing\n",
    "# Encode categorical variables\n",
    "label_encoder = LabelEncoder()\n",
    "train_data['NObeyesdad'] = label_encoder.fit_transform(train_data['NObeyesdad'])"
   ]
  },
  {
   "cell_type": "markdown",
   "id": "f418ba53",
   "metadata": {
    "papermill": {
     "duration": 0.013184,
     "end_time": "2024-03-19T18:48:50.267311",
     "exception": false,
     "start_time": "2024-03-19T18:48:50.254127",
     "status": "completed"
    },
    "tags": []
   },
   "source": [
    "- In the data preprocessing step, we often encounter categorical variables that need to be converted into a numerical format so that machine learning algorithms can process them.\n",
    "- The transformed data, which now contains numerical values instead of categorical labels, is reassigned back to the ‘NObeyesdad’ column of the train_data DataFrame."
   ]
  },
  {
   "cell_type": "markdown",
   "id": "d82bc4cc",
   "metadata": {
    "papermill": {
     "duration": 0.011657,
     "end_time": "2024-03-19T18:48:50.291836",
     "exception": false,
     "start_time": "2024-03-19T18:48:50.280179",
     "status": "completed"
    },
    "tags": []
   },
   "source": [
    "## Splitting the Dataset"
   ]
  },
  {
   "cell_type": "code",
   "execution_count": 9,
   "id": "b1dcc0eb",
   "metadata": {
    "execution": {
     "iopub.execute_input": "2024-03-19T18:48:50.317970Z",
     "iopub.status.busy": "2024-03-19T18:48:50.317500Z",
     "iopub.status.idle": "2024-03-19T18:48:50.328940Z",
     "shell.execute_reply": "2024-03-19T18:48:50.327889Z"
    },
    "papermill": {
     "duration": 0.027648,
     "end_time": "2024-03-19T18:48:50.331616",
     "exception": false,
     "start_time": "2024-03-19T18:48:50.303968",
     "status": "completed"
    },
    "tags": []
   },
   "outputs": [],
   "source": [
    "# Split the data into features and target variable\n",
    "X = train_data.drop(columns=['NObeyesdad', 'id'])\n",
    "y = train_data['NObeyesdad']"
   ]
  },
  {
   "cell_type": "code",
   "execution_count": 10,
   "id": "6343220d",
   "metadata": {
    "execution": {
     "iopub.execute_input": "2024-03-19T18:48:50.359019Z",
     "iopub.status.busy": "2024-03-19T18:48:50.358054Z",
     "iopub.status.idle": "2024-03-19T18:48:50.380793Z",
     "shell.execute_reply": "2024-03-19T18:48:50.379459Z"
    },
    "papermill": {
     "duration": 0.039449,
     "end_time": "2024-03-19T18:48:50.383768",
     "exception": false,
     "start_time": "2024-03-19T18:48:50.344319",
     "status": "completed"
    },
    "tags": []
   },
   "outputs": [],
   "source": [
    "# Split the data into training and validation sets\n",
    "X_train, X_val, y_train, y_val = train_test_split(X, y, test_size=0.2, random_state=42)"
   ]
  },
  {
   "cell_type": "markdown",
   "id": "3cf9d48b",
   "metadata": {
    "papermill": {
     "duration": 0.012127,
     "end_time": "2024-03-19T18:48:50.407270",
     "exception": false,
     "start_time": "2024-03-19T18:48:50.395143",
     "status": "completed"
    },
    "tags": []
   },
   "source": [
    "## One Hot Encoding "
   ]
  },
  {
   "cell_type": "code",
   "execution_count": 11,
   "id": "3c4c8686",
   "metadata": {
    "execution": {
     "iopub.execute_input": "2024-03-19T18:48:50.433919Z",
     "iopub.status.busy": "2024-03-19T18:48:50.433483Z",
     "iopub.status.idle": "2024-03-19T18:48:50.483752Z",
     "shell.execute_reply": "2024-03-19T18:48:50.482470Z"
    },
    "papermill": {
     "duration": 0.067196,
     "end_time": "2024-03-19T18:48:50.486652",
     "exception": false,
     "start_time": "2024-03-19T18:48:50.419456",
     "status": "completed"
    },
    "tags": []
   },
   "outputs": [],
   "source": [
    "# Data Preprocessing\n",
    "# One-hot encode categorical variables\n",
    "X_train_encoded = pd.get_dummies(X_train)\n",
    "X_val_encoded = pd.get_dummies(X_val)"
   ]
  },
  {
   "cell_type": "markdown",
   "id": "02fb2fa7",
   "metadata": {
    "papermill": {
     "duration": 0.011963,
     "end_time": "2024-03-19T18:48:50.510602",
     "exception": false,
     "start_time": "2024-03-19T18:48:50.498639",
     "status": "completed"
    },
    "tags": []
   },
   "source": [
    "- By applying pd.get_dummies(), each unique category value in a column is transformed into a new binary column (1s and 0s), where 1 indicates the presence of the category and 0 indicates the absence."
   ]
  },
  {
   "cell_type": "markdown",
   "id": "aba11a65",
   "metadata": {
    "papermill": {
     "duration": 0.011675,
     "end_time": "2024-03-19T18:48:50.535998",
     "exception": false,
     "start_time": "2024-03-19T18:48:50.524323",
     "status": "completed"
    },
    "tags": []
   },
   "source": [
    "## Fitting the Model"
   ]
  },
  {
   "cell_type": "code",
   "execution_count": 12,
   "id": "d180e8fe",
   "metadata": {
    "execution": {
     "iopub.execute_input": "2024-03-19T18:48:50.564176Z",
     "iopub.status.busy": "2024-03-19T18:48:50.563724Z",
     "iopub.status.idle": "2024-03-19T18:49:19.247447Z",
     "shell.execute_reply": "2024-03-19T18:49:19.245781Z"
    },
    "papermill": {
     "duration": 28.705185,
     "end_time": "2024-03-19T18:49:19.254594",
     "exception": false,
     "start_time": "2024-03-19T18:48:50.549409",
     "status": "completed"
    },
    "tags": []
   },
   "outputs": [
    {
     "name": "stderr",
     "output_type": "stream",
     "text": [
      "/opt/conda/lib/python3.10/site-packages/sklearn/linear_model/_logistic.py:458: ConvergenceWarning: lbfgs failed to converge (status=1):\n",
      "STOP: TOTAL NO. of ITERATIONS REACHED LIMIT.\n",
      "\n",
      "Increase the number of iterations (max_iter) or scale the data as shown in:\n",
      "    https://scikit-learn.org/stable/modules/preprocessing.html\n",
      "Please also refer to the documentation for alternative solver options:\n",
      "    https://scikit-learn.org/stable/modules/linear_model.html#logistic-regression\n",
      "  n_iter_i = _check_optimize_result(\n"
     ]
    },
    {
     "data": {
      "text/html": [
       "<style>#sk-container-id-1 {color: black;background-color: white;}#sk-container-id-1 pre{padding: 0;}#sk-container-id-1 div.sk-toggleable {background-color: white;}#sk-container-id-1 label.sk-toggleable__label {cursor: pointer;display: block;width: 100%;margin-bottom: 0;padding: 0.3em;box-sizing: border-box;text-align: center;}#sk-container-id-1 label.sk-toggleable__label-arrow:before {content: \"▸\";float: left;margin-right: 0.25em;color: #696969;}#sk-container-id-1 label.sk-toggleable__label-arrow:hover:before {color: black;}#sk-container-id-1 div.sk-estimator:hover label.sk-toggleable__label-arrow:before {color: black;}#sk-container-id-1 div.sk-toggleable__content {max-height: 0;max-width: 0;overflow: hidden;text-align: left;background-color: #f0f8ff;}#sk-container-id-1 div.sk-toggleable__content pre {margin: 0.2em;color: black;border-radius: 0.25em;background-color: #f0f8ff;}#sk-container-id-1 input.sk-toggleable__control:checked~div.sk-toggleable__content {max-height: 200px;max-width: 100%;overflow: auto;}#sk-container-id-1 input.sk-toggleable__control:checked~label.sk-toggleable__label-arrow:before {content: \"▾\";}#sk-container-id-1 div.sk-estimator input.sk-toggleable__control:checked~label.sk-toggleable__label {background-color: #d4ebff;}#sk-container-id-1 div.sk-label input.sk-toggleable__control:checked~label.sk-toggleable__label {background-color: #d4ebff;}#sk-container-id-1 input.sk-hidden--visually {border: 0;clip: rect(1px 1px 1px 1px);clip: rect(1px, 1px, 1px, 1px);height: 1px;margin: -1px;overflow: hidden;padding: 0;position: absolute;width: 1px;}#sk-container-id-1 div.sk-estimator {font-family: monospace;background-color: #f0f8ff;border: 1px dotted black;border-radius: 0.25em;box-sizing: border-box;margin-bottom: 0.5em;}#sk-container-id-1 div.sk-estimator:hover {background-color: #d4ebff;}#sk-container-id-1 div.sk-parallel-item::after {content: \"\";width: 100%;border-bottom: 1px solid gray;flex-grow: 1;}#sk-container-id-1 div.sk-label:hover label.sk-toggleable__label {background-color: #d4ebff;}#sk-container-id-1 div.sk-serial::before {content: \"\";position: absolute;border-left: 1px solid gray;box-sizing: border-box;top: 0;bottom: 0;left: 50%;z-index: 0;}#sk-container-id-1 div.sk-serial {display: flex;flex-direction: column;align-items: center;background-color: white;padding-right: 0.2em;padding-left: 0.2em;position: relative;}#sk-container-id-1 div.sk-item {position: relative;z-index: 1;}#sk-container-id-1 div.sk-parallel {display: flex;align-items: stretch;justify-content: center;background-color: white;position: relative;}#sk-container-id-1 div.sk-item::before, #sk-container-id-1 div.sk-parallel-item::before {content: \"\";position: absolute;border-left: 1px solid gray;box-sizing: border-box;top: 0;bottom: 0;left: 50%;z-index: -1;}#sk-container-id-1 div.sk-parallel-item {display: flex;flex-direction: column;z-index: 1;position: relative;background-color: white;}#sk-container-id-1 div.sk-parallel-item:first-child::after {align-self: flex-end;width: 50%;}#sk-container-id-1 div.sk-parallel-item:last-child::after {align-self: flex-start;width: 50%;}#sk-container-id-1 div.sk-parallel-item:only-child::after {width: 0;}#sk-container-id-1 div.sk-dashed-wrapped {border: 1px dashed gray;margin: 0 0.4em 0.5em 0.4em;box-sizing: border-box;padding-bottom: 0.4em;background-color: white;}#sk-container-id-1 div.sk-label label {font-family: monospace;font-weight: bold;display: inline-block;line-height: 1.2em;}#sk-container-id-1 div.sk-label-container {text-align: center;}#sk-container-id-1 div.sk-container {/* jupyter's `normalize.less` sets `[hidden] { display: none; }` but bootstrap.min.css set `[hidden] { display: none !important; }` so we also need the `!important` here to be able to override the default hidden behavior on the sphinx rendered scikit-learn.org. See: https://github.com/scikit-learn/scikit-learn/issues/21755 */display: inline-block !important;position: relative;}#sk-container-id-1 div.sk-text-repr-fallback {display: none;}</style><div id=\"sk-container-id-1\" class=\"sk-top-container\"><div class=\"sk-text-repr-fallback\"><pre>LogisticRegression(max_iter=2500)</pre><b>In a Jupyter environment, please rerun this cell to show the HTML representation or trust the notebook. <br />On GitHub, the HTML representation is unable to render, please try loading this page with nbviewer.org.</b></div><div class=\"sk-container\" hidden><div class=\"sk-item\"><div class=\"sk-estimator sk-toggleable\"><input class=\"sk-toggleable__control sk-hidden--visually\" id=\"sk-estimator-id-1\" type=\"checkbox\" checked><label for=\"sk-estimator-id-1\" class=\"sk-toggleable__label sk-toggleable__label-arrow\">LogisticRegression</label><div class=\"sk-toggleable__content\"><pre>LogisticRegression(max_iter=2500)</pre></div></div></div></div></div>"
      ],
      "text/plain": [
       "LogisticRegression(max_iter=2500)"
      ]
     },
     "execution_count": 12,
     "metadata": {},
     "output_type": "execute_result"
    }
   ],
   "source": [
    "# Train the Logistic Regression model\n",
    "model = LogisticRegression(max_iter=2500)\n",
    "model.fit(X_train_encoded, y_train)"
   ]
  },
  {
   "cell_type": "markdown",
   "id": "28585e40",
   "metadata": {
    "papermill": {
     "duration": 0.024711,
     "end_time": "2024-03-19T18:49:19.304338",
     "exception": false,
     "start_time": "2024-03-19T18:49:19.279627",
     "status": "completed"
    },
    "tags": []
   },
   "source": [
    "## Predicting the Validation Dataset"
   ]
  },
  {
   "cell_type": "code",
   "execution_count": 13,
   "id": "ff3c9970",
   "metadata": {
    "execution": {
     "iopub.execute_input": "2024-03-19T18:49:19.350512Z",
     "iopub.status.busy": "2024-03-19T18:49:19.350061Z",
     "iopub.status.idle": "2024-03-19T18:49:19.361872Z",
     "shell.execute_reply": "2024-03-19T18:49:19.360064Z"
    },
    "papermill": {
     "duration": 0.037419,
     "end_time": "2024-03-19T18:49:19.366605",
     "exception": false,
     "start_time": "2024-03-19T18:49:19.329186",
     "status": "completed"
    },
    "tags": []
   },
   "outputs": [],
   "source": [
    "# Predict on the validation set\n",
    "y_pred = model.predict(X_val_encoded)"
   ]
  },
  {
   "cell_type": "markdown",
   "id": "70dadc01",
   "metadata": {
    "papermill": {
     "duration": 0.026245,
     "end_time": "2024-03-19T18:49:19.418660",
     "exception": false,
     "start_time": "2024-03-19T18:49:19.392415",
     "status": "completed"
    },
    "tags": []
   },
   "source": [
    "## Evaluating the Model"
   ]
  },
  {
   "cell_type": "markdown",
   "id": "e5831e75",
   "metadata": {
    "papermill": {
     "duration": 0.024786,
     "end_time": "2024-03-19T18:49:19.470181",
     "exception": false,
     "start_time": "2024-03-19T18:49:19.445395",
     "status": "completed"
    },
    "tags": []
   },
   "source": [
    "## Accuracy\n"
   ]
  },
  {
   "cell_type": "code",
   "execution_count": 14,
   "id": "f80454cd",
   "metadata": {
    "execution": {
     "iopub.execute_input": "2024-03-19T18:49:19.500634Z",
     "iopub.status.busy": "2024-03-19T18:49:19.500160Z",
     "iopub.status.idle": "2024-03-19T18:49:19.508264Z",
     "shell.execute_reply": "2024-03-19T18:49:19.507278Z"
    },
    "papermill": {
     "duration": 0.02384,
     "end_time": "2024-03-19T18:49:19.510562",
     "exception": false,
     "start_time": "2024-03-19T18:49:19.486722",
     "status": "completed"
    },
    "tags": []
   },
   "outputs": [
    {
     "name": "stdout",
     "output_type": "stream",
     "text": [
      "\n",
      "Accuracy: 0.8509152215799615\n"
     ]
    }
   ],
   "source": [
    "# Evaluate the model\n",
    "accuracy = accuracy_score(y_val, y_pred)\n",
    "print(\"\\nAccuracy:\", accuracy)"
   ]
  },
  {
   "cell_type": "markdown",
   "id": "4e5ad66c",
   "metadata": {
    "papermill": {
     "duration": 0.011444,
     "end_time": "2024-03-19T18:49:19.533815",
     "exception": false,
     "start_time": "2024-03-19T18:49:19.522371",
     "status": "completed"
    },
    "tags": []
   },
   "source": [
    "**Accuracy: 0.8511560693641619**"
   ]
  },
  {
   "cell_type": "markdown",
   "id": "45a919ee",
   "metadata": {
    "papermill": {
     "duration": 0.011712,
     "end_time": "2024-03-19T18:49:19.557609",
     "exception": false,
     "start_time": "2024-03-19T18:49:19.545897",
     "status": "completed"
    },
    "tags": []
   },
   "source": [
    "## F1 Score"
   ]
  },
  {
   "cell_type": "code",
   "execution_count": 15,
   "id": "2542657f",
   "metadata": {
    "execution": {
     "iopub.execute_input": "2024-03-19T18:49:19.584404Z",
     "iopub.status.busy": "2024-03-19T18:49:19.583016Z",
     "iopub.status.idle": "2024-03-19T18:49:19.608537Z",
     "shell.execute_reply": "2024-03-19T18:49:19.607111Z"
    },
    "papermill": {
     "duration": 0.041975,
     "end_time": "2024-03-19T18:49:19.611429",
     "exception": false,
     "start_time": "2024-03-19T18:49:19.569454",
     "status": "completed"
    },
    "tags": []
   },
   "outputs": [
    {
     "name": "stdout",
     "output_type": "stream",
     "text": [
      "\n",
      "Classification Report:\n",
      "              precision    recall  f1-score   support\n",
      "\n",
      "           0       0.87      0.93      0.90       524\n",
      "           1       0.81      0.79      0.80       626\n",
      "           2       0.79      0.82      0.80       543\n",
      "           3       0.95      0.97      0.96       657\n",
      "           4       0.99      1.00      0.99       804\n",
      "           5       0.72      0.67      0.69       484\n",
      "           6       0.71      0.66      0.68       514\n",
      "\n",
      "    accuracy                           0.85      4152\n",
      "   macro avg       0.83      0.83      0.83      4152\n",
      "weighted avg       0.85      0.85      0.85      4152\n",
      "\n"
     ]
    }
   ],
   "source": [
    "# Generate classification report and confusion matrix\n",
    "print(\"\\nClassification Report:\")\n",
    "print(classification_report(y_val, y_pred))"
   ]
  },
  {
   "cell_type": "markdown",
   "id": "7bd26480",
   "metadata": {
    "papermill": {
     "duration": 0.011543,
     "end_time": "2024-03-19T18:49:19.634998",
     "exception": false,
     "start_time": "2024-03-19T18:49:19.623455",
     "status": "completed"
    },
    "tags": []
   },
   "source": [
    "## Confusion Matrix"
   ]
  },
  {
   "cell_type": "code",
   "execution_count": 16,
   "id": "b82a9351",
   "metadata": {
    "execution": {
     "iopub.execute_input": "2024-03-19T18:49:19.661418Z",
     "iopub.status.busy": "2024-03-19T18:49:19.660178Z",
     "iopub.status.idle": "2024-03-19T18:49:19.670023Z",
     "shell.execute_reply": "2024-03-19T18:49:19.668683Z"
    },
    "papermill": {
     "duration": 0.025661,
     "end_time": "2024-03-19T18:49:19.672639",
     "exception": false,
     "start_time": "2024-03-19T18:49:19.646978",
     "status": "completed"
    },
    "tags": []
   },
   "outputs": [
    {
     "name": "stdout",
     "output_type": "stream",
     "text": [
      "\n",
      "Confusion Matrix:\n",
      "[[487  35   1   0   0   1   0]\n",
      " [ 66 496   0   0   0  57   7]\n",
      " [  2   0 446  27   7   9  52]\n",
      " [  0   0  15 638   1   0   3]\n",
      " [  0   0   0   1 803   0   0]\n",
      " [  2  65  14   0   0 326  77]\n",
      " [  0  19  91   5   0  62 337]]\n"
     ]
    }
   ],
   "source": [
    "\n",
    "print(\"\\nConfusion Matrix:\")\n",
    "conf_matrix = confusion_matrix(y_val, y_pred)\n",
    "print(conf_matrix)"
   ]
  },
  {
   "cell_type": "markdown",
   "id": "4dee26cf",
   "metadata": {
    "papermill": {
     "duration": 0.011977,
     "end_time": "2024-03-19T18:49:19.696833",
     "exception": false,
     "start_time": "2024-03-19T18:49:19.684856",
     "status": "completed"
    },
    "tags": []
   },
   "source": [
    "## Confusion Matrix\n",
    "\n",
    "A **Confusion Matrix** is a performance measurement tool for machine learning classification. It is a table with two dimensions, \"Actual\" and \"Predicted,\" and allows the model to be assessed on the test data. The matrix is composed of four outcomes:\n",
    "\n",
    "- **True Positives (TP)**: The cases in which the model correctly predicted the positive class.\n",
    "- **True Negatives (TN)**: The cases in which the model correctly predicted the negative class.\n",
    "- **False Positives (FP)**: The cases in which the model incorrectly predicted the positive class (also known as a \"Type I error\").\n",
    "- **False Negatives (FN)**: The cases in which the model incorrectly predicted the negative class (also known as a \"Type II error\").\n",
    "\n",
    "These outcomes are used to compute various performance metrics, such as accuracy, precision, recall, and the F1 score, which provide insights into the model's predictive power and reliability.\n"
   ]
  }
 ],
 "metadata": {
  "kaggle": {
   "accelerator": "none",
   "dataSources": [
    {
     "databundleVersionId": 7609535,
     "sourceId": 68479,
     "sourceType": "competition"
    }
   ],
   "dockerImageVersionId": 30648,
   "isGpuEnabled": false,
   "isInternetEnabled": true,
   "language": "python",
   "sourceType": "notebook"
  },
  "kernelspec": {
   "display_name": "Python 3",
   "language": "python",
   "name": "python3"
  },
  "language_info": {
   "codemirror_mode": {
    "name": "ipython",
    "version": 3
   },
   "file_extension": ".py",
   "mimetype": "text/x-python",
   "name": "python",
   "nbconvert_exporter": "python",
   "pygments_lexer": "ipython3",
   "version": "3.10.13"
  },
  "papermill": {
   "default_parameters": {},
   "duration": 38.858535,
   "end_time": "2024-03-19T18:49:20.633251",
   "environment_variables": {},
   "exception": null,
   "input_path": "__notebook__.ipynb",
   "output_path": "__notebook__.ipynb",
   "parameters": {},
   "start_time": "2024-03-19T18:48:41.774716",
   "version": "2.5.0"
  }
 },
 "nbformat": 4,
 "nbformat_minor": 5
}
